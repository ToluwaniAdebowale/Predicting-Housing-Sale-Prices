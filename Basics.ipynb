{
 "cells": [
  {
   "cell_type": "code",
   "execution_count": 98,
   "metadata": {
    "collapsed": false
   },
   "outputs": [],
   "source": [
    "import pandas as pd\n",
    "import numpy as np\n",
    "import matplotlib.pyplot as plt\n",
    "import seaborn as sns\n",
    "from sklearn.linear_model import LinearRegression\n",
    "from sklearn.metrics import mean_squared_error\n",
    "from sklearn.model_selection import cross_val_score, KFold"
   ]
  },
  {
   "cell_type": "code",
   "execution_count": 3,
   "metadata": {
    "collapsed": false
   },
   "outputs": [
    {
     "name": "stdout",
     "output_type": "stream",
     "text": [
      "<class 'pandas.core.frame.DataFrame'>\n",
      "RangeIndex: 2930 entries, 0 to 2929\n",
      "Data columns (total 82 columns):\n",
      "Order              2930 non-null int64\n",
      "PID                2930 non-null int64\n",
      "MS SubClass        2930 non-null int64\n",
      "MS Zoning          2930 non-null object\n",
      "Lot Frontage       2440 non-null float64\n",
      "Lot Area           2930 non-null int64\n",
      "Street             2930 non-null object\n",
      "Alley              198 non-null object\n",
      "Lot Shape          2930 non-null object\n",
      "Land Contour       2930 non-null object\n",
      "Utilities          2930 non-null object\n",
      "Lot Config         2930 non-null object\n",
      "Land Slope         2930 non-null object\n",
      "Neighborhood       2930 non-null object\n",
      "Condition 1        2930 non-null object\n",
      "Condition 2        2930 non-null object\n",
      "Bldg Type          2930 non-null object\n",
      "House Style        2930 non-null object\n",
      "Overall Qual       2930 non-null int64\n",
      "Overall Cond       2930 non-null int64\n",
      "Year Built         2930 non-null int64\n",
      "Year Remod/Add     2930 non-null int64\n",
      "Roof Style         2930 non-null object\n",
      "Roof Matl          2930 non-null object\n",
      "Exterior 1st       2930 non-null object\n",
      "Exterior 2nd       2930 non-null object\n",
      "Mas Vnr Type       2907 non-null object\n",
      "Mas Vnr Area       2907 non-null float64\n",
      "Exter Qual         2930 non-null object\n",
      "Exter Cond         2930 non-null object\n",
      "Foundation         2930 non-null object\n",
      "Bsmt Qual          2850 non-null object\n",
      "Bsmt Cond          2850 non-null object\n",
      "Bsmt Exposure      2847 non-null object\n",
      "BsmtFin Type 1     2850 non-null object\n",
      "BsmtFin SF 1       2929 non-null float64\n",
      "BsmtFin Type 2     2849 non-null object\n",
      "BsmtFin SF 2       2929 non-null float64\n",
      "Bsmt Unf SF        2929 non-null float64\n",
      "Total Bsmt SF      2929 non-null float64\n",
      "Heating            2930 non-null object\n",
      "Heating QC         2930 non-null object\n",
      "Central Air        2930 non-null object\n",
      "Electrical         2929 non-null object\n",
      "1st Flr SF         2930 non-null int64\n",
      "2nd Flr SF         2930 non-null int64\n",
      "Low Qual Fin SF    2930 non-null int64\n",
      "Gr Liv Area        2930 non-null int64\n",
      "Bsmt Full Bath     2928 non-null float64\n",
      "Bsmt Half Bath     2928 non-null float64\n",
      "Full Bath          2930 non-null int64\n",
      "Half Bath          2930 non-null int64\n",
      "Bedroom AbvGr      2930 non-null int64\n",
      "Kitchen AbvGr      2930 non-null int64\n",
      "Kitchen Qual       2930 non-null object\n",
      "TotRms AbvGrd      2930 non-null int64\n",
      "Functional         2930 non-null object\n",
      "Fireplaces         2930 non-null int64\n",
      "Fireplace Qu       1508 non-null object\n",
      "Garage Type        2773 non-null object\n",
      "Garage Yr Blt      2771 non-null float64\n",
      "Garage Finish      2771 non-null object\n",
      "Garage Cars        2929 non-null float64\n",
      "Garage Area        2929 non-null float64\n",
      "Garage Qual        2771 non-null object\n",
      "Garage Cond        2771 non-null object\n",
      "Paved Drive        2930 non-null object\n",
      "Wood Deck SF       2930 non-null int64\n",
      "Open Porch SF      2930 non-null int64\n",
      "Enclosed Porch     2930 non-null int64\n",
      "3Ssn Porch         2930 non-null int64\n",
      "Screen Porch       2930 non-null int64\n",
      "Pool Area          2930 non-null int64\n",
      "Pool QC            13 non-null object\n",
      "Fence              572 non-null object\n",
      "Misc Feature       106 non-null object\n",
      "Misc Val           2930 non-null int64\n",
      "Mo Sold            2930 non-null int64\n",
      "Yr Sold            2930 non-null int64\n",
      "Sale Type          2930 non-null object\n",
      "Sale Condition     2930 non-null object\n",
      "SalePrice          2930 non-null int64\n",
      "dtypes: float64(11), int64(28), object(43)\n",
      "memory usage: 1.8+ MB\n"
     ]
    }
   ],
   "source": [
    "housing_data = pd.read_csv('AmesHousing.tsv', delimiter='\\t')\n",
    "housing_data.info()"
   ]
  },
  {
   "cell_type": "code",
   "execution_count": 4,
   "metadata": {
    "collapsed": false
   },
   "outputs": [],
   "source": [
    "def transform_features(df):\n",
    " \n",
    "    return df\n",
    "#train.columns"
   ]
  },
  {
   "cell_type": "code",
   "execution_count": 5,
   "metadata": {
    "collapsed": true
   },
   "outputs": [],
   "source": [
    "def select_features(df):\n",
    "    return df[['Gr Liv Area', 'SalePrice']]"
   ]
  },
  {
   "cell_type": "code",
   "execution_count": 6,
   "metadata": {
    "collapsed": false
   },
   "outputs": [
    {
     "data": {
      "text/plain": [
       "57088.25161263909"
      ]
     },
     "execution_count": 6,
     "metadata": {},
     "output_type": "execute_result"
    }
   ],
   "source": [
    "def train_and_test(df):\n",
    "    train = df[:1460]\n",
    "    test = df[1460:]\n",
    "    lr = LinearRegression()\n",
    "    numeric_feature = df.select_dtypes(include=['float','int']).columns.drop('SalePrice')\n",
    "    lr.fit(train[numeric_feature], train['SalePrice'])\n",
    "    test_predict = lr.predict(test[numeric_feature])\n",
    "    test_rmse = np.sqrt(mean_squared_error(test['SalePrice'], test_predict))\n",
    "    return test_rmse\n",
    "\n",
    "#first_data = transform_features(housing_data)\n",
    "first_trial = select_features(housing_data)\n",
    "train_and_test(first_trial)"
   ]
  },
  {
   "cell_type": "markdown",
   "metadata": {},
   "source": [
    "## FEATURE ENGINEERING"
   ]
  },
  {
   "cell_type": "code",
   "execution_count": 7,
   "metadata": {
    "collapsed": true
   },
   "outputs": [],
   "source": [
    "def transform_features(df):\n",
    "    \n",
    "    #filtering to select feature with less than 25% null values\n",
    "    df_null_value = df.isnull().sum()\n",
    "    df_col_filter = df_null_value[df_null_value<732]\n",
    "    df_col_select = df[df_col_filter.index]\n",
    "    return df_col_select"
   ]
  },
  {
   "cell_type": "code",
   "execution_count": 8,
   "metadata": {
    "collapsed": true
   },
   "outputs": [],
   "source": [
    "def select_features(df,target):\n",
    "    numeric = df.select_dtypes(include=['float64','int64']).columns.drop(target)\n",
    "    return numeric"
   ]
  },
  {
   "cell_type": "code",
   "execution_count": 9,
   "metadata": {
    "collapsed": false
   },
   "outputs": [
    {
     "name": "stderr",
     "output_type": "stream",
     "text": [
      "/dataquest/system/env/python3/lib/python3.4/site-packages/pandas/core/frame.py:2540: SettingWithCopyWarning:\n",
      "\n",
      "\n",
      "A value is trying to be set on a copy of a slice from a DataFrame.\n",
      "Try using .loc[row_indexer,col_indexer] = value instead\n",
      "\n",
      "See the caveats in the documentation: http://pandas.pydata.org/pandas-docs/stable/indexing.html#indexing-view-versus-copy\n",
      "\n"
     ]
    },
    {
     "name": "stdout",
     "output_type": "stream",
     "text": [
      "Index(['Order', 'PID', 'MS SubClass', 'Lot Area', 'Overall Qual',\n",
      "       'Overall Cond', 'Year Built', 'Year Remod/Add', 'Mas Vnr Area',\n",
      "       'BsmtFin SF 1', 'BsmtFin SF 2', 'Bsmt Unf SF', 'Total Bsmt SF',\n",
      "       '1st Flr SF', '2nd Flr SF', 'Low Qual Fin SF', 'Gr Liv Area',\n",
      "       'Bsmt Full Bath', 'Bsmt Half Bath', 'Full Bath', 'Half Bath',\n",
      "       'Bedroom AbvGr', 'Kitchen AbvGr', 'TotRms AbvGrd', 'Fireplaces',\n",
      "       'Garage Cars', 'Garage Area', 'Wood Deck SF', 'Open Porch SF',\n",
      "       'Enclosed Porch', '3Ssn Porch', 'Screen Porch', 'Pool Area', 'Misc Val',\n",
      "       'Mo Sold', 'Yr Sold'],\n",
      "      dtype='object')\n",
      "0    36\n",
      "dtype: int64\n"
     ]
    },
    {
     "name": "stderr",
     "output_type": "stream",
     "text": [
      "/dataquest/system/env/python3/lib/python3.4/site-packages/ipykernel/__main__.py:22: SettingWithCopyWarning:\n",
      "\n",
      "\n",
      "A value is trying to be set on a copy of a slice from a DataFrame.\n",
      "Try using .loc[row_indexer,col_indexer] = value instead\n",
      "\n",
      "See the caveats in the documentation: http://pandas.pydata.org/pandas-docs/stable/indexing.html#indexing-view-versus-copy\n",
      "\n",
      "/dataquest/system/env/python3/lib/python3.4/site-packages/ipykernel/__main__.py:23: SettingWithCopyWarning:\n",
      "\n",
      "\n",
      "A value is trying to be set on a copy of a slice from a DataFrame.\n",
      "Try using .loc[row_indexer,col_indexer] = value instead\n",
      "\n",
      "See the caveats in the documentation: http://pandas.pydata.org/pandas-docs/stable/indexing.html#indexing-view-versus-copy\n",
      "\n"
     ]
    }
   ],
   "source": [
    "#filtered the dataframeto select featured with null values less \n",
    "#than 5%\n",
    "filtered_column = transform_features(housing_data)\n",
    "null_value = filtered_column.isnull().sum()\n",
    "col_less_than_5 = filtered_column[null_value[null_value<146].index]\n",
    "\n",
    "#filtered the dataframe to select numeric features with null values\n",
    "#less than 5%\n",
    "numeric_less_than_5 = select_features(col_less_than_5, 'SalePrice')\n",
    "\n",
    "#print(col_less_than_5.shape[1])\n",
    "#print(numeric_less_than_5)\n",
    "#print(col_less_than_5[numeric_less_than_5].isnull().sum().value_counts())\n",
    "\n",
    "#going to fill numeric_less_than_5 variable null with mode of column\n",
    "col_less_than_5[numeric_less_than_5] = col_less_than_5[numeric_less_than_5].fillna(value=col_less_than_5[numeric_less_than_5].mode().iloc[0])\n",
    "print(col_less_than_5[numeric_less_than_5].columns)\n",
    "print(col_less_than_5[numeric_less_than_5].isnull().sum().value_counts())\n",
    "#going to create some new features\n",
    "\n",
    "#create years_until_remod feature\n",
    "col_less_than_5['Years Since Remod'] = col_less_than_5['Yr Sold'] - col_less_than_5['Year Remod/Add']\n",
    "col_less_than_5['House Age'] = col_less_than_5['Yr Sold'] - col_less_than_5['Year Built']"
   ]
  },
  {
   "cell_type": "code",
   "execution_count": 10,
   "metadata": {
    "collapsed": false
   },
   "outputs": [
    {
     "data": {
      "text/plain": [
       "Index(['MS SubClass', 'MS Zoning', 'Lot Area', 'Street', 'Lot Shape',\n",
       "       'Land Contour', 'Utilities', 'Lot Config', 'Land Slope', 'Neighborhood',\n",
       "       'Condition 1', 'Condition 2', 'Bldg Type', 'House Style',\n",
       "       'Overall Qual', 'Overall Cond', 'Year Built', 'Year Remod/Add',\n",
       "       'Roof Style', 'Roof Matl', 'Exterior 1st', 'Exterior 2nd',\n",
       "       'Mas Vnr Type', 'Mas Vnr Area', 'Exter Qual', 'Exter Cond',\n",
       "       'Foundation', 'Bsmt Qual', 'Bsmt Cond', 'Bsmt Exposure',\n",
       "       'BsmtFin Type 1', 'BsmtFin SF 1', 'BsmtFin Type 2', 'BsmtFin SF 2',\n",
       "       'Bsmt Unf SF', 'Total Bsmt SF', 'Heating', 'Heating QC', 'Central Air',\n",
       "       'Electrical', '1st Flr SF', '2nd Flr SF', 'Low Qual Fin SF',\n",
       "       'Gr Liv Area', 'Bsmt Full Bath', 'Bsmt Half Bath', 'Full Bath',\n",
       "       'Half Bath', 'Bedroom AbvGr', 'Kitchen AbvGr', 'Kitchen Qual',\n",
       "       'TotRms AbvGrd', 'Functional', 'Fireplaces', 'Garage Cars',\n",
       "       'Garage Area', 'Paved Drive', 'Wood Deck SF', 'Open Porch SF',\n",
       "       'Enclosed Porch', '3Ssn Porch', 'Screen Porch', 'Pool Area', 'Misc Val',\n",
       "       'SalePrice', 'Years Since Remod', 'House Age'],\n",
       "      dtype='object')"
      ]
     },
     "execution_count": 10,
     "metadata": {},
     "output_type": "execute_result"
    }
   ],
   "source": [
    "#columns that ain't useful for ml are order and pid, nothing is said\n",
    "#about the in the documentatio\n",
    "col_less_than_5 = col_less_than_5.drop(['Order', 'PID'],axis=1)\n",
    "\n",
    "#columns that leak data are columns that describe the target columns\n",
    "#which in this case are mo sold, yr sold, sale type and sale condition\n",
    "col_less_than_5 = col_less_than_5.drop(['Mo Sold', 'Yr Sold', 'Sale Type', 'Sale Condition'],axis=1)\n",
    "col_less_than_5.columns"
   ]
  },
  {
   "cell_type": "code",
   "execution_count": 11,
   "metadata": {
    "collapsed": false
   },
   "outputs": [
    {
     "data": {
      "text/plain": [
       "1702   -1\n",
       "2180   -2\n",
       "2181   -1\n",
       "Name: Years Since Remod, dtype: int64"
      ]
     },
     "execution_count": 11,
     "metadata": {},
     "output_type": "execute_result"
    }
   ],
   "source": [
    "#checking for outliers in 'years_until_remod' 'Year Remod/Add' \n",
    "#and 'Year Built'\n",
    "years = col_less_than_5['Years Since Remod']\n",
    "years[years<0]#checking for values less than 0"
   ]
  },
  {
   "cell_type": "code",
   "execution_count": 12,
   "metadata": {
    "collapsed": false
   },
   "outputs": [
    {
     "data": {
      "text/plain": [
       "2180   -1\n",
       "Name: House Age, dtype: int64"
      ]
     },
     "execution_count": 12,
     "metadata": {},
     "output_type": "execute_result"
    }
   ],
   "source": [
    "age = col_less_than_5['House Age']\n",
    "age[age<0]"
   ]
  },
  {
   "cell_type": "code",
   "execution_count": 13,
   "metadata": {
    "collapsed": true
   },
   "outputs": [],
   "source": [
    "#removing outliers\n",
    "col_less_than_5 = col_less_than_5.drop([1702,2180,2181],axis=0)"
   ]
  },
  {
   "cell_type": "markdown",
   "metadata": {},
   "source": [
    "### Updating the functions"
   ]
  },
  {
   "cell_type": "code",
   "execution_count": 14,
   "metadata": {
    "collapsed": true
   },
   "outputs": [],
   "source": [
    "def select_features(df):\n",
    "    return df[['Gr Liv Area', 'SalePrice']]\n",
    "\n",
    "def select_numeric(df):\n",
    "    numeric = df.select_dtypes(include=['float64','int64']).columns\n",
    "    return numeric"
   ]
  },
  {
   "cell_type": "code",
   "execution_count": 15,
   "metadata": {
    "collapsed": false
   },
   "outputs": [],
   "source": [
    "def transform_features(df):\n",
    "    \n",
    "    #filtering to select feature with less than 25% null values\n",
    "    df_null_value = df.isnull().sum()\n",
    "    df_col_filter = df_null_value[df_null_value<733]\n",
    "    df_less_than_25 = df[df_col_filter.index]\n",
    "    \n",
    "    #filtered the dataframeto select featured with null values \n",
    "    #less than 5%\n",
    "    null_value = df_less_than_25.isnull().sum()\n",
    "    df_less_than_5 = df_less_than_25[null_value[null_value<147].index]\n",
    "    \n",
    "    #return numeric features indices(index) with null values less than 5%\n",
    "    numeric_less_than_5 = select_numeric(df_less_than_5)\n",
    "    \n",
    "    #going to fill numeric_less_than_5 variable null with mode of \n",
    "    #column\n",
    "    df_less_than_5 = df_less_than_5.fillna(df_less_than_5[numeric_less_than_5].mode().iloc[0])\n",
    "    #going to create some new features\n",
    "\n",
    "    #create years_until_remod feature\n",
    "    df_less_than_5['Years Since Remod'] = df_less_than_5['Yr Sold'] - df_less_than_5['Year Remod/Add']\n",
    "    \n",
    "    #create the house age feature\n",
    "    df_less_than_5['House Age'] = df_less_than_5['Yr Sold'] - df_less_than_5['Year Built']\n",
    "    \n",
    "    #dropping some columns\n",
    "\n",
    "    #columns that ain't useful for ml are order and pid, nothing \n",
    "    #is said about the in the documentation\n",
    "    df_less_than_5 = df_less_than_5.drop(['Order', 'PID'],axis=1)\n",
    "    \n",
    "    #columns that leak data are columns that describe the target \n",
    "    #columns which in this case are mo sold, yr sold, \n",
    "    #sale type and sale condition\n",
    "    df_less_than_5 = df_less_than_5.drop(['Mo Sold', 'Yr Sold', 'Sale Type', 'Sale Condition'],axis=1)\n",
    "    \n",
    "    #removing outliers\n",
    "    df_less_than_5 = df_less_than_5.drop([1702,2180,2181],axis=0)\n",
    "    \n",
    "    return df_less_than_5"
   ]
  },
  {
   "cell_type": "code",
   "execution_count": 16,
   "metadata": {
    "collapsed": false
   },
   "outputs": [
    {
     "data": {
      "text/plain": [
       "55275.36731241307"
      ]
     },
     "execution_count": 16,
     "metadata": {},
     "output_type": "execute_result"
    }
   ],
   "source": [
    "def train_and_test(df):\n",
    "    train = df[:1460]\n",
    "    test = df[1460:]\n",
    "    lr = LinearRegression()\n",
    "    numeric_feature = df.select_dtypes(include=['float','int']).columns.drop('SalePrice')\n",
    "    lr.fit(train[numeric_feature], train['SalePrice'])\n",
    "    test_predict = lr.predict(test[numeric_feature])\n",
    "    test_rmse = np.sqrt(mean_squared_error(test['SalePrice'], test_predict))\n",
    "    return test_rmse\n",
    "\n",
    "second_data = transform_features(housing_data)\n",
    "second_trial = select_features(second_data)\n",
    "train_and_test(second_trial)"
   ]
  },
  {
   "cell_type": "markdown",
   "metadata": {},
   "source": [
    "## FEATURE SELECTION"
   ]
  },
  {
   "cell_type": "code",
   "execution_count": 17,
   "metadata": {
    "collapsed": false
   },
   "outputs": [
    {
     "data": {
      "text/plain": [
       "BsmtFin SF 2         0.006127\n",
       "Misc Val             0.019273\n",
       "3Ssn Porch           0.032268\n",
       "Bsmt Half Bath       0.035875\n",
       "Low Qual Fin SF      0.037629\n",
       "Pool Area            0.068438\n",
       "MS SubClass          0.085128\n",
       "Overall Cond         0.101540\n",
       "Screen Porch         0.112280\n",
       "Kitchen AbvGr        0.119760\n",
       "Enclosed Porch       0.128685\n",
       "Bedroom AbvGr        0.143916\n",
       "Bsmt Unf SF          0.182751\n",
       "Lot Area             0.267520\n",
       "2nd Flr SF           0.269601\n",
       "Bsmt Full Bath       0.276258\n",
       "Half Bath            0.284871\n",
       "Open Porch SF        0.316262\n",
       "Wood Deck SF         0.328183\n",
       "BsmtFin SF 1         0.439284\n",
       "Fireplaces           0.474831\n",
       "TotRms AbvGrd        0.498574\n",
       "Mas Vnr Area         0.506983\n",
       "Year Remod/Add       0.533007\n",
       "Years Since Remod    0.534985\n",
       "Full Bath            0.546118\n",
       "Year Built           0.558490\n",
       "House Age            0.558979\n",
       "1st Flr SF           0.635185\n",
       "Garage Area          0.641425\n",
       "Total Bsmt SF        0.644012\n",
       "Garage Cars          0.648361\n",
       "Gr Liv Area          0.717596\n",
       "Overall Qual         0.801206\n",
       "SalePrice            1.000000\n",
       "Name: SalePrice, dtype: float64"
      ]
     },
     "execution_count": 17,
     "metadata": {},
     "output_type": "execute_result"
    }
   ],
   "source": [
    "#calling the features we're working with\n",
    "transform_df = transform_features(housing_data)\n",
    "\n",
    "#choosing the numeric features:\n",
    "numeric_index = select_numeric(transform_df)\n",
    "numeric_features = transform_df[numeric_index]\n",
    "\n",
    "#creating a correlation matrix of the features with the target column, SalePrice\n",
    "abs_corr_matrix = numeric_features.corr().abs()['SalePrice'].sort_values()\n",
    "abs_corr_matrix\n",
    "#numeric_features.isnull().sum()"
   ]
  },
  {
   "cell_type": "code",
   "execution_count": 18,
   "metadata": {
    "collapsed": false
   },
   "outputs": [
    {
     "data": {
      "text/plain": [
       "<matplotlib.axes._subplots.AxesSubplot at 0x7f2993d629e8>"
      ]
     },
     "execution_count": 18,
     "metadata": {},
     "output_type": "execute_result"
    },
    {
     "data": {
      "image/png": "[encoded data removed]",
      "text/plain": [
       "<matplotlib.figure.Figure at 0x7f2993d500f0>"
      ]
     },
     "metadata": {},
     "output_type": "display_data"
    }
   ],
   "source": [
    "%matplotlib inline\n",
    "\n",
    "corr_matrix = transform_df[numeric_index].corr()\n",
    "\n",
    "sns.heatmap(corr_matrix)\n",
    "#this is too much for heatmap"
   ]
  },
  {
   "cell_type": "code",
   "execution_count": 19,
   "metadata": {
    "collapsed": false
   },
   "outputs": [
    {
     "data": {
      "text/plain": [
       "36612.28397462025"
      ]
     },
     "execution_count": 19,
     "metadata": {},
     "output_type": "execute_result"
    }
   ],
   "source": [
    "#selecting columns with correlation coefficients larger than 0.3\n",
    "#testing for it's validation\n",
    "numeric_feature_one = numeric_features[abs_corr_matrix[abs_corr_matrix>0.3].index]\n",
    "#fes = select_features(numeric_feature_one)\n",
    "train_and_test(numeric_feature_one)"
   ]
  },
  {
   "cell_type": "code",
   "execution_count": 20,
   "metadata": {
    "collapsed": false
   },
   "outputs": [
    {
     "data": {
      "text/plain": [
       "36626.12481908985"
      ]
     },
     "execution_count": 20,
     "metadata": {},
     "output_type": "execute_result"
    }
   ],
   "source": [
    "#selecting columns with correlation coefficients larger than 0.4\n",
    "#testing for it's validation\n",
    "numeric_feature_two = numeric_features[abs_corr_matrix[abs_corr_matrix>0.4].index]\n",
    "#fes_one = select_features(numeric_feature_two)\n",
    "train_and_test(numeric_feature_two)"
   ]
  },
  {
   "cell_type": "markdown",
   "metadata": {
    "collapsed": true
   },
   "source": [
    "Thankfully we have a function train_and_test() that makes it easy to calculate the validation of our model. Since coefficient larger than 0.3 is more accurate, we are going to filter by this"
   ]
  },
  {
   "cell_type": "code",
   "execution_count": 21,
   "metadata": {
    "collapsed": false
   },
   "outputs": [
    {
     "data": {
      "text/plain": [
       "Index(['Open Porch SF', 'Wood Deck SF', 'BsmtFin SF 1', 'Fireplaces',\n",
       "       'TotRms AbvGrd', 'Mas Vnr Area', 'Year Remod/Add', 'Years Since Remod',\n",
       "       'Full Bath', 'Year Built', 'House Age', '1st Flr SF', 'Garage Area',\n",
       "       'Total Bsmt SF', 'Garage Cars', 'Gr Liv Area', 'Overall Qual',\n",
       "       'SalePrice'],\n",
       "      dtype='object')"
      ]
     },
     "execution_count": 21,
     "metadata": {},
     "output_type": "execute_result"
    }
   ],
   "source": [
    "#selecting column coefficients larger than 0.3\n",
    "numeric_features= numeric_features[abs_corr_matrix[abs_corr_matrix>0.3].index]\n",
    "numeric_features.columns"
   ]
  },
  {
   "cell_type": "code",
   "execution_count": 22,
   "metadata": {
    "collapsed": false
   },
   "outputs": [],
   "source": [
    "#dropping numeric features less than 0.3 in the main feature dataframe\n",
    "transform_df = transform_df.drop(abs_corr_matrix[abs_corr_matrix<0.3].index, axis=1)"
   ]
  },
  {
   "cell_type": "code",
   "execution_count": 23,
   "metadata": {
    "collapsed": false
   },
   "outputs": [
    {
     "data": {
      "text/plain": [
       "Index(['MS Zoning', 'Street', 'Lot Shape', 'Land Contour', 'Utilities',\n",
       "       'Lot Config', 'Land Slope', 'Neighborhood', 'Condition 1',\n",
       "       'Condition 2', 'Bldg Type', 'House Style', 'Overall Qual', 'Year Built',\n",
       "       'Year Remod/Add', 'Roof Style', 'Roof Matl', 'Exterior 1st',\n",
       "       'Exterior 2nd', 'Mas Vnr Type', 'Mas Vnr Area', 'Exter Qual',\n",
       "       'Exter Cond', 'Foundation', 'Bsmt Qual', 'Bsmt Cond', 'Bsmt Exposure',\n",
       "       'BsmtFin Type 1', 'BsmtFin SF 1', 'BsmtFin Type 2', 'Total Bsmt SF',\n",
       "       'Heating', 'Heating QC', 'Central Air', 'Electrical', '1st Flr SF',\n",
       "       'Gr Liv Area', 'Full Bath', 'Kitchen Qual', 'TotRms AbvGrd',\n",
       "       'Functional', 'Fireplaces', 'Garage Cars', 'Garage Area', 'Paved Drive',\n",
       "       'Wood Deck SF', 'Open Porch SF', 'SalePrice', 'Years Since Remod',\n",
       "       'House Age'],\n",
       "      dtype='object')"
      ]
     },
     "execution_count": 23,
     "metadata": {},
     "output_type": "execute_result"
    }
   ],
   "source": [
    "#inspecting the columns\n",
    "transform_df.columns"
   ]
  },
  {
   "cell_type": "code",
   "execution_count": 24,
   "metadata": {
    "collapsed": true
   },
   "outputs": [],
   "source": [
    "#From the documentation, these columns should be seen as norminal categorical:\n",
    "nominal_features = [\n",
    "    'MS Zoning', 'Street', 'Land Contour', 'Lot Config', 'Neighborhood', \n",
    "    'Condition 1', 'Condition 2', 'Bldg Type', 'House Style', 'Roof Style', \n",
    "    'Roof Matl', 'Exterior 1st', 'Exterior 2nd', 'Mas Vnr Type', \n",
    "    'Foundation', 'Heating', 'Central Air']\n"
   ]
  },
  {
   "cell_type": "code",
   "execution_count": 25,
   "metadata": {
    "collapsed": true
   },
   "outputs": [],
   "source": [
    "#from the documentation, these columns should be seen as ordinal categorical:\n",
    "ordinal_features = [\n",
    "    'Lot Shape','Utilities', 'Land Slope', 'Exter Qual','Exter Cond', \n",
    "    'Bsmt Qual', 'Bsmt Cond', 'Bsmt Exposure', 'BsmtFin Type 1','BsmtFin Type 2',\n",
    "    'Heating QC', 'Electrical', 'Kitchen Qual', 'Functional', 'Fireplaces', 'Paved Drive',\n",
    "    'Overall Qual', 'SalePrice'\n",
    "]"
   ]
  },
  {
   "cell_type": "code",
   "execution_count": 26,
   "metadata": {
    "collapsed": true
   },
   "outputs": [],
   "source": [
    "numerical_features = [\n",
    "    'Open Porch SF', 'Wood Deck SF', 'BsmtFin SF 1', 'Fireplaces',\n",
    "    'TotRms AbvGrd', 'Mas Vnr Area', 'Year Remod/Add', 'Years Since Remod',\n",
    "    'Full Bath', 'Year Built', 'House Age', '1st Flr SF', 'Garage Area',\n",
    "    'Total Bsmt SF', 'Garage Cars', 'Gr Liv Area', 'Overall Qual', 'SalePrice'\n",
    "]"
   ]
  },
  {
   "cell_type": "markdown",
   "metadata": {},
   "source": [
    "From the list of norminal features, columns have too many unique values will be dropped. This is because too many unique values would return a lot of dummy values"
   ]
  },
  {
   "cell_type": "code",
   "execution_count": 27,
   "metadata": {
    "collapsed": false
   },
   "outputs": [
    {
     "name": "stdout",
     "output_type": "stream",
     "text": [
      "14\n"
     ]
    },
    {
     "data": {
      "text/plain": [
       "47"
      ]
     },
     "execution_count": 27,
     "metadata": {},
     "output_type": "execute_result"
    }
   ],
   "source": [
    "#find the number unique values of each column\n",
    "unique_length = transform_df[nominal_features].apply(lambda col: len(col.value_counts())).sort_values()\n",
    "large_unique = unique_length[unique_length>10].index\n",
    "\n",
    "#updating nominal_features\n",
    "nominal_features = [col for col in nominal_features if col not in large_unique]\n",
    "print(len(nominal_features))\n",
    "\n",
    "#dropping the features with large unique values\n",
    "transform_df = transform_df.drop(large_unique, axis=1)\n",
    "\n",
    "transform_df.shape[1]"
   ]
  },
  {
   "cell_type": "markdown",
   "metadata": {},
   "source": [
    "We're also going to drop categorical features with low variance: i.e most of \n",
    "it's values belong to a specific category:"
   ]
  },
  {
   "cell_type": "code",
   "execution_count": 28,
   "metadata": {
    "collapsed": false
   },
   "outputs": [
    {
     "name": "stdout",
     "output_type": "stream",
     "text": [
      "<class 'pandas.core.series.Series'>\n"
     ]
    }
   ],
   "source": [
    "#creating a Series of nominal_features value_counts\n",
    "col_variance = transform_df[nominal_features].apply(lambda col: col.value_counts(normalize=True).to_dict())\n",
    "print(type(col_variance))\n",
    "\n",
    "#filtering columns that have 0.95 of its items in one unique value\n",
    "low_var_col = []\n",
    "for k,v in col_variance.iteritems():\n",
    "    for keys, values in v.items():\n",
    "        if values > 0.95:\n",
    "            low_var_col.append(k)\n",
    "\n",
    "#dropping items in low_var_col transform_df\n",
    "transform_df = transform_df.drop(low_var_col, axis=1)\n",
    "\n",
    "#updating nominal_features\n",
    "nominal_features = [col for col in nominal_features if col not in low_var_col]"
   ]
  },
  {
   "cell_type": "code",
   "execution_count": 29,
   "metadata": {
    "collapsed": false
   },
   "outputs": [
    {
     "name": "stdout",
     "output_type": "stream",
     "text": [
      "43\n"
     ]
    },
    {
     "data": {
      "text/plain": [
       "10"
      ]
     },
     "execution_count": 29,
     "metadata": {},
     "output_type": "execute_result"
    }
   ],
   "source": [
    "#checking if it's updated\n",
    "print(transform_df.shape[1])\n",
    "len(nominal_features)"
   ]
  },
  {
   "cell_type": "markdown",
   "metadata": {},
   "source": [
    "Checking through the numerical_features to find if there's anyone that should be categorical instead<br>\n",
    "There isn't any!!!!<br>\n",
    "Now, use heatmap to check for collinearity between numerical features<br>"
   ]
  },
  {
   "cell_type": "code",
   "execution_count": 30,
   "metadata": {
    "collapsed": false
   },
   "outputs": [
    {
     "data": {
      "text/plain": [
       "<matplotlib.axes._subplots.AxesSubplot at 0x7f2993baca90>"
      ]
     },
     "execution_count": 30,
     "metadata": {},
     "output_type": "execute_result"
    },
    {
     "data": {
      "image/png": "[encoded data removed]",
      "text/plain": [
       "<matplotlib.figure.Figure at 0x7f2993c2df28>"
      ]
     },
     "metadata": {},
     "output_type": "display_data"
    }
   ],
   "source": [
    "%matplotlib inline\n",
    "\n",
    "num_corr = transform_df[numerical_features].corr().abs()\n",
    "sns.heatmap(num_corr)"
   ]
  },
  {
   "cell_type": "markdown",
   "metadata": {},
   "source": [
    "These are the pairs with high collinearity<br>\n",
    "Gr Liv Area and TotRms AbvGrd<br>\n",
    "Year Remod/Add and Years Since Remod<br>\n",
    "Year Built and House Age<br>\n",
    "Garage Area and Garage Cars<br>\n",
    "Total Bsmt SF and 1st Flr SF<br>\n",
    "\n",
    "Based on documentation and research on their relevance, I'm going to drop the following:<br>\n",
    "TotRms AbvGrd-it's discrete, Gr Liv Area would provide me with a better information since it is continous<br>\n",
    "Year Remod/Add-It doesn't provide information about the house unlike Years Since Remod<br>\n",
    "Year Built-It doesn't provide information about the house unlike House Age<br>\n",
    "Garage Cars-it's discrete, Garage Area would provide me with a better information since it is continous<br>\n",
    "1st Flr SF-I'm conflicted to whether I should pick it or drop it so, I'm going to just run test on it<br>"
   ]
  },
  {
   "cell_type": "code",
   "execution_count": 31,
   "metadata": {
    "collapsed": true
   },
   "outputs": [],
   "source": [
    "col_drop_1 = ['TotRms AbvGrd', 'Year Remod/Add', 'Year Built', 'Garage Cars', '1st Flr SF']\n",
    "col_drop_2 = ['TotRms AbvGrd', 'Year Remod/Add', 'Year Built', 'Garage Cars']\n",
    "\n",
    "num_1 = [col for col in numerical_features if col not in col_drop_1]\n",
    "num_2 = [col for col in numerical_features if col not in col_drop_2]"
   ]
  },
  {
   "cell_type": "code",
   "execution_count": 32,
   "metadata": {
    "collapsed": false
   },
   "outputs": [
    {
     "name": "stdout",
     "output_type": "stream",
     "text": [
      "36734.34310657303\n",
      "36591.01157256019\n"
     ]
    }
   ],
   "source": [
    "#if I exclude 1st Flr SF\n",
    "print(train_and_test(transform_df[num_1]))\n",
    "\n",
    "#if I include 1st Flr SF\n",
    "print(train_and_test(transform_df[num_2]))"
   ]
  },
  {
   "cell_type": "code",
   "execution_count": 33,
   "metadata": {
    "collapsed": false
   },
   "outputs": [
    {
     "name": "stdout",
     "output_type": "stream",
     "text": [
      "14\n",
      "39\n"
     ]
    }
   ],
   "source": [
    "#Since the model is more accurate if I include 1st Flr SF, \n",
    "#I'm going to do just that\n",
    "numerical_features = num_2\n",
    "\n",
    "#to confirm it's been dropped\n",
    "print(len(numerical_features))\n",
    "\n",
    "#dropping these values from our dataframe\n",
    "transform_df = transform_df.drop(col_drop_2, axis=1)\n",
    "\n",
    "#to confirm it's been dropped\n",
    "print(transform_df.shape[1])"
   ]
  },
  {
   "cell_type": "markdown",
   "metadata": {},
   "source": [
    "I'm going to convert ordinal categorical values to int(numerical) values"
   ]
  },
  {
   "cell_type": "code",
   "execution_count": 34,
   "metadata": {
    "collapsed": false
   },
   "outputs": [
    {
     "data": {
      "text/plain": [
       "Reg    1859\n",
       "IR1     976\n",
       "IR2      76\n",
       "IR3      16\n",
       "Name: Lot Shape, dtype: int64"
      ]
     },
     "execution_count": 34,
     "metadata": {},
     "output_type": "execute_result"
    }
   ],
   "source": [
    "transform_df['Lot Shape'].value_counts()"
   ]
  },
  {
   "cell_type": "code",
   "execution_count": 35,
   "metadata": {
    "collapsed": false
   },
   "outputs": [],
   "source": [
    "transform_df['Lot Shape'] = transform_df['Lot Shape'].map({'Reg':4, 'IR1':3, 'IR2':2, 'IR3': 1})"
   ]
  },
  {
   "cell_type": "code",
   "execution_count": 36,
   "metadata": {
    "collapsed": false
   },
   "outputs": [
    {
     "data": {
      "text/plain": [
       "AllPub    2924\n",
       "NoSewr       2\n",
       "NoSeWa       1\n",
       "Name: Utilities, dtype: int64"
      ]
     },
     "execution_count": 36,
     "metadata": {},
     "output_type": "execute_result"
    }
   ],
   "source": [
    "transform_df['Utilities'].value_counts()"
   ]
  },
  {
   "cell_type": "code",
   "execution_count": 37,
   "metadata": {
    "collapsed": true
   },
   "outputs": [],
   "source": [
    "transform_df['Utilities'] = transform_df['Utilities'].map({'AllPub':4, 'NoSewr':3, 'NoSeWa':2, 'ELO':1})"
   ]
  },
  {
   "cell_type": "code",
   "execution_count": 38,
   "metadata": {
    "collapsed": false
   },
   "outputs": [
    {
     "data": {
      "text/plain": [
       "Gtl    2786\n",
       "Mod     125\n",
       "Sev      16\n",
       "Name: Land Slope, dtype: int64"
      ]
     },
     "execution_count": 38,
     "metadata": {},
     "output_type": "execute_result"
    }
   ],
   "source": [
    "transform_df['Land Slope'].value_counts()"
   ]
  },
  {
   "cell_type": "code",
   "execution_count": 39,
   "metadata": {
    "collapsed": true
   },
   "outputs": [],
   "source": [
    "transform_df['Land Slope'] = transform_df['Land Slope'].map({'Gtl':3,'Mod':2,'Sev':1})"
   ]
  },
  {
   "cell_type": "code",
   "execution_count": 40,
   "metadata": {
    "collapsed": false
   },
   "outputs": [
    {
     "data": {
      "text/plain": [
       "TA    1799\n",
       "Gd     988\n",
       "Ex     105\n",
       "Fa      35\n",
       "Name: Exter Qual, dtype: int64"
      ]
     },
     "execution_count": 40,
     "metadata": {},
     "output_type": "execute_result"
    }
   ],
   "source": [
    "transform_df['Exter Qual'].value_counts()"
   ]
  },
  {
   "cell_type": "code",
   "execution_count": 41,
   "metadata": {
    "collapsed": false
   },
   "outputs": [
    {
     "data": {
      "text/plain": [
       "TA    2546\n",
       "Gd     299\n",
       "Fa      67\n",
       "Ex      12\n",
       "Po       3\n",
       "Name: Exter Cond, dtype: int64"
      ]
     },
     "execution_count": 41,
     "metadata": {},
     "output_type": "execute_result"
    }
   ],
   "source": [
    "transform_df['Exter Cond'].value_counts()"
   ]
  },
  {
   "cell_type": "code",
   "execution_count": 42,
   "metadata": {
    "collapsed": false
   },
   "outputs": [
    {
     "data": {
      "text/plain": [
       "Ex    1492\n",
       "TA     864\n",
       "Gd     476\n",
       "Fa      92\n",
       "Po       3\n",
       "Name: Heating QC, dtype: int64"
      ]
     },
     "execution_count": 42,
     "metadata": {},
     "output_type": "execute_result"
    }
   ],
   "source": [
    "transform_df['Heating QC'].value_counts()"
   ]
  },
  {
   "cell_type": "code",
   "execution_count": 43,
   "metadata": {
    "collapsed": false
   },
   "outputs": [
    {
     "data": {
      "text/plain": [
       "TA    1494\n",
       "Gd    1159\n",
       "Ex     203\n",
       "Fa      70\n",
       "Po       1\n",
       "Name: Kitchen Qual, dtype: int64"
      ]
     },
     "execution_count": 43,
     "metadata": {},
     "output_type": "execute_result"
    }
   ],
   "source": [
    "transform_df['Kitchen Qual'].value_counts()"
   ]
  },
  {
   "cell_type": "code",
   "execution_count": 44,
   "metadata": {
    "collapsed": false
   },
   "outputs": [
    {
     "data": {
      "text/plain": [
       "TA    1283\n",
       "Gd    1218\n",
       "Ex     256\n",
       "Fa      88\n",
       "Po       2\n",
       "Name: Bsmt Qual, dtype: int64"
      ]
     },
     "execution_count": 44,
     "metadata": {},
     "output_type": "execute_result"
    }
   ],
   "source": [
    "transform_df['Bsmt Qual'].value_counts()"
   ]
  },
  {
   "cell_type": "code",
   "execution_count": 45,
   "metadata": {
    "collapsed": false
   },
   "outputs": [
    {
     "data": {
      "text/plain": [
       "TA    2613\n",
       "Gd     122\n",
       "Fa     104\n",
       "Po       5\n",
       "Ex       3\n",
       "Name: Bsmt Cond, dtype: int64"
      ]
     },
     "execution_count": 45,
     "metadata": {},
     "output_type": "execute_result"
    }
   ],
   "source": [
    "transform_df['Bsmt Cond'].value_counts()"
   ]
  },
  {
   "cell_type": "code",
   "execution_count": 46,
   "metadata": {
    "collapsed": false
   },
   "outputs": [],
   "source": [
    "for col in ['Exter Qual', 'Exter Cond', 'Heating QC', 'Kitchen Qual', 'Bsmt Qual', 'Bsmt Cond']:\n",
    "    transform_df[col] = transform_df[col].map({'Ex':5, 'Gd':4, 'TA':3, 'Fa':2, 'Po':1, 'NA':0})"
   ]
  },
  {
   "cell_type": "code",
   "execution_count": 47,
   "metadata": {
    "collapsed": false
   },
   "outputs": [
    {
     "data": {
      "text/plain": [
       "No    1905\n",
       "Av     418\n",
       "Gd     282\n",
       "Mn     239\n",
       "Name: Bsmt Exposure, dtype: int64"
      ]
     },
     "execution_count": 47,
     "metadata": {},
     "output_type": "execute_result"
    }
   ],
   "source": [
    "transform_df['Bsmt Exposure'].value_counts()"
   ]
  },
  {
   "cell_type": "code",
   "execution_count": 48,
   "metadata": {
    "collapsed": false
   },
   "outputs": [],
   "source": [
    "transform_df['Bsmt Exposure'] = transform_df['Bsmt Exposure'].map({'Gd':3,'Av':2,'Mn':1,'No':0,'NA':-1})"
   ]
  },
  {
   "cell_type": "code",
   "execution_count": 49,
   "metadata": {
    "collapsed": false
   },
   "outputs": [
    {
     "data": {
      "text/plain": [
       "GLQ    857\n",
       "Unf    850\n",
       "ALQ    429\n",
       "Rec    288\n",
       "BLQ    269\n",
       "LwQ    154\n",
       "Name: BsmtFin Type 1, dtype: int64"
      ]
     },
     "execution_count": 49,
     "metadata": {},
     "output_type": "execute_result"
    }
   ],
   "source": [
    "transform_df['BsmtFin Type 1'].value_counts()"
   ]
  },
  {
   "cell_type": "code",
   "execution_count": 50,
   "metadata": {
    "collapsed": false
   },
   "outputs": [
    {
     "data": {
      "text/plain": [
       "Unf    2496\n",
       "Rec     106\n",
       "LwQ      89\n",
       "BLQ      68\n",
       "ALQ      53\n",
       "GLQ      34\n",
       "Name: BsmtFin Type 2, dtype: int64"
      ]
     },
     "execution_count": 50,
     "metadata": {},
     "output_type": "execute_result"
    }
   ],
   "source": [
    "transform_df['BsmtFin Type 2'].value_counts()"
   ]
  },
  {
   "cell_type": "code",
   "execution_count": 51,
   "metadata": {
    "collapsed": true
   },
   "outputs": [],
   "source": [
    "for col in ['BsmtFin Type 1', 'BsmtFin Type 2']:\n",
    "    transform_df[col] = transform_df[col].map({'GLQ':6,'ALQ':5,'BLQ':4,'Rec':3,'LwQ':2,'Unf':1,'NA':0})"
   ]
  },
  {
   "cell_type": "code",
   "execution_count": 52,
   "metadata": {
    "collapsed": false
   },
   "outputs": [
    {
     "data": {
      "text/plain": [
       "array(['SBrkr', 'FuseA', 'FuseF', 'FuseP', nan, 'Mix'], dtype=object)"
      ]
     },
     "execution_count": 52,
     "metadata": {},
     "output_type": "execute_result"
    }
   ],
   "source": [
    "transform_df['Electrical'].unique()"
   ]
  },
  {
   "cell_type": "code",
   "execution_count": 53,
   "metadata": {
    "collapsed": true
   },
   "outputs": [],
   "source": [
    "transform_df['Electrical'] = transform_df['Electrical'].map({'SBrkr':4, 'FuseA':3, 'FuseF':2, 'FuseP':1,'Mix':1.5})"
   ]
  },
  {
   "cell_type": "code",
   "execution_count": 54,
   "metadata": {
    "collapsed": false
   },
   "outputs": [
    {
     "data": {
      "text/plain": [
       "array(['Typ', 'Mod', 'Min1', 'Min2', 'Maj1', 'Maj2', 'Sev', 'Sal'],\n",
       "      dtype=object)"
      ]
     },
     "execution_count": 54,
     "metadata": {},
     "output_type": "execute_result"
    }
   ],
   "source": [
    "transform_df['Functional'].unique()"
   ]
  },
  {
   "cell_type": "code",
   "execution_count": 55,
   "metadata": {
    "collapsed": true
   },
   "outputs": [],
   "source": [
    "transform_df['Functional'] = transform_df['Functional'].map({'Typ':7, 'Min1':6, 'Min2':5, 'Mod':4, 'Maj1':3, 'Maj2':2, 'Sev':1, 'Sal':0})"
   ]
  },
  {
   "cell_type": "code",
   "execution_count": 56,
   "metadata": {
    "collapsed": false
   },
   "outputs": [
    {
     "data": {
      "text/plain": [
       "array(['P', 'Y', 'N'], dtype=object)"
      ]
     },
     "execution_count": 56,
     "metadata": {},
     "output_type": "execute_result"
    }
   ],
   "source": [
    "transform_df['Paved Drive'].unique()"
   ]
  },
  {
   "cell_type": "code",
   "execution_count": 57,
   "metadata": {
    "collapsed": true
   },
   "outputs": [],
   "source": [
    "transform_df['Paved Drive'] = transform_df['Paved Drive'].map({'Y':3,'P':2, 'N':1})"
   ]
  },
  {
   "cell_type": "code",
   "execution_count": 58,
   "metadata": {
    "collapsed": false
   },
   "outputs": [],
   "source": [
    "#filled missing values in ordinal_features with 0\n",
    "transform_df[ordinal_features] = transform_df[ordinal_features].fillna(0)"
   ]
  },
  {
   "cell_type": "code",
   "execution_count": 59,
   "metadata": {
    "collapsed": false
   },
   "outputs": [
    {
     "data": {
      "text/plain": [
       "Lot Shape         0\n",
       "Utilities         0\n",
       "Land Slope        0\n",
       "Exter Qual        0\n",
       "Exter Cond        0\n",
       "Bsmt Qual         0\n",
       "Bsmt Cond         0\n",
       "Bsmt Exposure     0\n",
       "BsmtFin Type 1    0\n",
       "BsmtFin Type 2    0\n",
       "Heating QC        0\n",
       "Electrical        0\n",
       "Kitchen Qual      0\n",
       "Functional        0\n",
       "Fireplaces        0\n",
       "Paved Drive       0\n",
       "Overall Qual      0\n",
       "SalePrice         0\n",
       "dtype: int64"
      ]
     },
     "execution_count": 59,
     "metadata": {},
     "output_type": "execute_result"
    }
   ],
   "source": [
    "#confirmed ordinal_features has no nan\n",
    "transform_df[ordinal_features].isnull().sum()"
   ]
  },
  {
   "cell_type": "code",
   "execution_count": 60,
   "metadata": {
    "collapsed": false
   },
   "outputs": [],
   "source": [
    "#converting ordinal_features to int\n",
    "for col in ordinal_features:\n",
    "    transform_df[col] = transform_df[col].astype(int)"
   ]
  },
  {
   "cell_type": "markdown",
   "metadata": {},
   "source": [
    "Check for correlation between ordinal and targert<br>\n",
    "Iterate once more and check for the best corr to cut off<br>"
   ]
  },
  {
   "cell_type": "code",
   "execution_count": 61,
   "metadata": {
    "collapsed": false
   },
   "outputs": [
    {
     "data": {
      "text/plain": [
       "BsmtFin Type 2    0.011878\n",
       "Exter Cond        0.021902\n",
       "Utilities         0.026025\n",
       "Land Slope        0.066488\n",
       "Functional        0.121769\n",
       "Bsmt Cond         0.212062\n",
       "Electrical        0.229733\n",
       "Paved Drive       0.275909\n",
       "Lot Shape         0.291246\n",
       "BsmtFin Type 1    0.337634\n",
       "Bsmt Exposure     0.400698\n",
       "Heating QC        0.450255\n",
       "Fireplaces        0.474831\n",
       "Bsmt Qual         0.608011\n",
       "Kitchen Qual      0.673934\n",
       "Exter Qual        0.699605\n",
       "Overall Qual      0.801206\n",
       "SalePrice         1.000000\n",
       "Name: SalePrice, dtype: float64"
      ]
     },
     "execution_count": 61,
     "metadata": {},
     "output_type": "execute_result"
    }
   ],
   "source": [
    "ordinal_corr = transform_df[ordinal_features].corr().abs()['SalePrice'].sort_values()\n",
    "ordinal_corr"
   ]
  },
  {
   "cell_type": "code",
   "execution_count": 62,
   "metadata": {
    "collapsed": false
   },
   "outputs": [
    {
     "data": {
      "text/plain": [
       "43477.28659030271"
      ]
     },
     "execution_count": 62,
     "metadata": {},
     "output_type": "execute_result"
    }
   ],
   "source": [
    "#testing for accuracy of model with features of correlation>0.4\n",
    "train_and_test(transform_df[ordinal_corr[ordinal_corr>0.4].index])"
   ]
  },
  {
   "cell_type": "code",
   "execution_count": 63,
   "metadata": {
    "collapsed": false
   },
   "outputs": [
    {
     "data": {
      "text/plain": [
       "43338.25952909067"
      ]
     },
     "execution_count": 63,
     "metadata": {},
     "output_type": "execute_result"
    }
   ],
   "source": [
    "#testing for accuracy of model with features of correlation>0.3\n",
    "train_and_test(transform_df[ordinal_corr[ordinal_corr>0.3].index])"
   ]
  },
  {
   "cell_type": "code",
   "execution_count": 64,
   "metadata": {
    "collapsed": false
   },
   "outputs": [
    {
     "data": {
      "text/plain": [
       "42813.46041013308"
      ]
     },
     "execution_count": 64,
     "metadata": {},
     "output_type": "execute_result"
    }
   ],
   "source": [
    "#testing for accuracy of model with features of correlation>0.2\n",
    "train_and_test(transform_df[ordinal_corr[ordinal_corr>0.2].index])"
   ]
  },
  {
   "cell_type": "code",
   "execution_count": 65,
   "metadata": {
    "collapsed": false
   },
   "outputs": [
    {
     "data": {
      "text/plain": [
       "46648.11137350673"
      ]
     },
     "execution_count": 65,
     "metadata": {},
     "output_type": "execute_result"
    }
   ],
   "source": [
    "#testing for accuracy of model with features of correlation>0.5\n",
    "train_and_test(transform_df[ordinal_corr[ordinal_corr>0.5].index])"
   ]
  },
  {
   "cell_type": "code",
   "execution_count": 66,
   "metadata": {
    "collapsed": false
   },
   "outputs": [
    {
     "data": {
      "text/plain": [
       "42831.467724807524"
      ]
     },
     "execution_count": 66,
     "metadata": {},
     "output_type": "execute_result"
    }
   ],
   "source": [
    "#testing for accuracy of model with features of correlation>0.1\n",
    "train_and_test(transform_df[ordinal_corr[ordinal_corr>0.1].index])"
   ]
  },
  {
   "cell_type": "code",
   "execution_count": 67,
   "metadata": {
    "collapsed": false
   },
   "outputs": [
    {
     "data": {
      "text/plain": [
       "34"
      ]
     },
     "execution_count": 67,
     "metadata": {},
     "output_type": "execute_result"
    }
   ],
   "source": [
    "#from our test, it's best if we cut off from 0.2\n",
    "cut_off = ordinal_corr[ordinal_corr<0.2].index\n",
    "\n",
    "#updating our ordinal_features\n",
    "ordinal_features = [col for col in ordinal_features if col not in cut_off]\n",
    "\n",
    "#updating the transform_df\n",
    "transform_df = transform_df.drop(cut_off, axis=1)\n",
    "\n",
    "#confirming it is updated\n",
    "transform_df.shape[1]"
   ]
  },
  {
   "cell_type": "code",
   "execution_count": 68,
   "metadata": {
    "collapsed": false
   },
   "outputs": [
    {
     "data": {
      "text/plain": [
       "13"
      ]
     },
     "execution_count": 68,
     "metadata": {},
     "output_type": "execute_result"
    }
   ],
   "source": [
    "#confirming ordinal_features is updated\n",
    "len(ordinal_features)"
   ]
  },
  {
   "cell_type": "markdown",
   "metadata": {},
   "source": [
    "Use heatmap to check for collinearity between ordinal features<br>"
   ]
  },
  {
   "cell_type": "code",
   "execution_count": 69,
   "metadata": {
    "collapsed": false
   },
   "outputs": [
    {
     "data": {
      "text/plain": [
       "<matplotlib.axes._subplots.AxesSubplot at 0x7f29922cd978>"
      ]
     },
     "execution_count": 69,
     "metadata": {},
     "output_type": "execute_result"
    },
    {
     "data": {
      "image/png": "[encoded data removed]",
      "text/plain": [
       "<matplotlib.figure.Figure at 0x7f2993cd1b38>"
      ]
     },
     "metadata": {},
     "output_type": "display_data"
    }
   ],
   "source": [
    "%matplotlib inline\n",
    "\n",
    "corrs = transform_df[ordinal_features].corr().abs()\n",
    "sns.heatmap(corrs)"
   ]
  },
  {
   "cell_type": "markdown",
   "metadata": {},
   "source": [
    "These are the ones that seem to have collinearity:<br>\n",
    "Exter Qual vs Overall Qual<br>\n",
    "Exter Qual vs Kitchen Qual<br>\n",
    "Overall Qual vs Kitchen Qual<br>\n",
    "Since it's just these three, I'm going to check for the model accuracy if each is removed:<br>"
   ]
  },
  {
   "cell_type": "code",
   "execution_count": 70,
   "metadata": {
    "collapsed": false
   },
   "outputs": [
    {
     "name": "stdout",
     "output_type": "stream",
     "text": [
      "43087.65961576384\n",
      "47236.405201182766\n",
      "43547.09319386525\n",
      "42813.46041013308\n"
     ]
    }
   ],
   "source": [
    "num = [lis for lis in ordinal_features if lis != 'Exter Qual']\n",
    "num1 = [lis for lis in ordinal_features if lis != 'Overall Qual']\n",
    "num2 = [lis for lis in ordinal_features if lis != 'Kitchen Qual']\n",
    "print(train_and_test(transform_df[num]))\n",
    "print(train_and_test(transform_df[num1]))\n",
    "print(train_and_test(transform_df[num2]))\n",
    "print(train_and_test(transform_df[ordinal_features]))"
   ]
  },
  {
   "cell_type": "markdown",
   "metadata": {},
   "source": [
    "Since the having all the features improves accuracy of the model. I'm going to leave it as that"
   ]
  },
  {
   "cell_type": "markdown",
   "metadata": {},
   "source": [
    "Add ordinal to numerical features list<br>"
   ]
  },
  {
   "cell_type": "code",
   "execution_count": 71,
   "metadata": {
    "collapsed": false
   },
   "outputs": [
    {
     "name": "stdout",
     "output_type": "stream",
     "text": [
      "27\n"
     ]
    }
   ],
   "source": [
    "numerical_features.extend(ordinal_features)\n",
    "print(len(numerical_features))"
   ]
  },
  {
   "cell_type": "code",
   "execution_count": 72,
   "metadata": {
    "collapsed": false
   },
   "outputs": [
    {
     "name": "stdout",
     "output_type": "stream",
     "text": [
      "['Open Porch SF', 'Wood Deck SF', 'BsmtFin SF 1', 'Fireplaces', 'Mas Vnr Area', 'Years Since Remod', 'Full Bath', 'House Age', '1st Flr SF', 'Garage Area', 'Total Bsmt SF', 'Gr Liv Area', 'Overall Qual', 'SalePrice', 'Lot Shape', 'Exter Qual', 'Bsmt Qual', 'Bsmt Cond', 'Bsmt Exposure', 'BsmtFin Type 1', 'Heating QC', 'Electrical', 'Kitchen Qual', 'Fireplaces', 'Paved Drive', 'Overall Qual', 'SalePrice']\n"
     ]
    }
   ],
   "source": [
    "print(numerical_features)"
   ]
  },
  {
   "cell_type": "code",
   "execution_count": 73,
   "metadata": {
    "collapsed": false
   },
   "outputs": [],
   "source": [
    "numerical_features = list(set(numerical_features))"
   ]
  },
  {
   "cell_type": "code",
   "execution_count": 74,
   "metadata": {
    "collapsed": false
   },
   "outputs": [
    {
     "name": "stdout",
     "output_type": "stream",
     "text": [
      "24\n"
     ]
    }
   ],
   "source": [
    "print(len(numerical_features))"
   ]
  },
  {
   "cell_type": "markdown",
   "metadata": {},
   "source": [
    "Convert nominal_features to categorical"
   ]
  },
  {
   "cell_type": "code",
   "execution_count": 75,
   "metadata": {
    "collapsed": true
   },
   "outputs": [],
   "source": [
    "for col in nominal_features:\n",
    "    transform_df[col] = transform_df[col].astype('category')"
   ]
  },
  {
   "cell_type": "markdown",
   "metadata": {},
   "source": [
    "Convert nominal_features to dummies"
   ]
  },
  {
   "cell_type": "code",
   "execution_count": 76,
   "metadata": {
    "collapsed": false
   },
   "outputs": [],
   "source": [
    "for col in nominal_features:\n",
    "    nominal_dummies = pd.get_dummies(transform_df[col])\n",
    "    transform_df = pd.concat([transform_df, nominal_dummies], axis=1)\n",
    "    del transform_df[col]"
   ]
  },
  {
   "cell_type": "code",
   "execution_count": 84,
   "metadata": {
    "collapsed": false
   },
   "outputs": [
    {
     "data": {
      "text/plain": [
       "0"
      ]
     },
     "execution_count": 84,
     "metadata": {},
     "output_type": "execute_result"
    }
   ],
   "source": [
    "transform_df.isnull().sum().sum()"
   ]
  },
  {
   "cell_type": "markdown",
   "metadata": {
    "collapsed": false
   },
   "source": [
    "### Updating the functions:"
   ]
  },
  {
   "cell_type": "code",
   "execution_count": 77,
   "metadata": {
    "collapsed": true
   },
   "outputs": [],
   "source": [
    "def transform_features(df):\n",
    "    \n",
    "    #filtering to select feature with less than 25% null values\n",
    "    df_null_value = df.isnull().sum()\n",
    "    df_col_filter = df_null_value[df_null_value<733]\n",
    "    df_less_than_25 = df[df_col_filter.index]\n",
    "    \n",
    "    #filtered the dataframeto select featured with null values \n",
    "    #less than 5%\n",
    "    null_value = df_less_than_25.isnull().sum()\n",
    "    df_less_than_5 = df_less_than_25[null_value[null_value<147].index]\n",
    "    \n",
    "    #return numeric features indices(index) with null values less than 5%\n",
    "    numeric_less_than_5 = select_numeric(df_less_than_5)\n",
    "    \n",
    "    #going to fill numeric_less_than_5 variable null with mode of \n",
    "    #column\n",
    "    df_less_than_5 = df_less_than_5.fillna(df_less_than_5[numeric_less_than_5].mode().iloc[0])\n",
    "    #going to create some new features\n",
    "\n",
    "    #create years_until_remod feature\n",
    "    df_less_than_5['Years Since Remod'] = df_less_than_5['Yr Sold'] - df_less_than_5['Year Remod/Add']\n",
    "    \n",
    "    #create the house age feature\n",
    "    df_less_than_5['House Age'] = df_less_than_5['Yr Sold'] - df_less_than_5['Year Built']\n",
    "    \n",
    "    #dropping some columns\n",
    "\n",
    "    #columns that ain't useful for ml are order and pid, nothing \n",
    "    #is said about the in the documentation\n",
    "    df_less_than_5 = df_less_than_5.drop(['Order', 'PID'],axis=1)\n",
    "    \n",
    "    #columns that leak data are columns that describe the target \n",
    "    #columns which in this case are mo sold, yr sold, \n",
    "    #sale type and sale condition\n",
    "    df_less_than_5 = df_less_than_5.drop(['Mo Sold', 'Yr Sold', 'Sale Type', 'Sale Condition'],axis=1)\n",
    "    \n",
    "    #removing outliers\n",
    "    df_less_than_5 = df_less_than_5.drop([1702,2180,2181],axis=0)\n",
    "    \n",
    "    return df_less_than_5"
   ]
  },
  {
   "cell_type": "code",
   "execution_count": 86,
   "metadata": {
    "collapsed": true
   },
   "outputs": [],
   "source": [
    "def select_features(df,num_coef_threshold=0.3,unique_threshold=10,var_threshold=0.95,ord_coef_threshold=0.2):\n",
    "    \n",
    "    \n",
    "    #calling the features we're working with\n",
    "    transform_df = transform_features(df)\n",
    "\n",
    "    #choosing the numeric features:\n",
    "    numeric_index = select_numeric(transform_df)\n",
    "    numeric_features = transform_df[numeric_index]\n",
    "\n",
    "    #creating a correlation matrix of the features with the target column, SalePrice\n",
    "    abs_corr_matrix = numeric_features.corr().abs()['SalePrice'].sort_values()\n",
    "\n",
    "    #selecting column coefficients larger than 0.3\n",
    "    numeric_features= numeric_features[abs_corr_matrix[abs_corr_matrix>num_coef_threshold].index]\n",
    "\n",
    "    #dropping numeric features less than 0.3 in the main feature dataframe\n",
    "    transform_df = transform_df.drop(abs_corr_matrix[abs_corr_matrix<num_coef_threshold].index, axis=1)\n",
    "\n",
    "    #From the documentation, these columns should be seen as norminal categorical:\n",
    "    nominal_features = [\n",
    "        'MS Zoning', 'Street', 'Land Contour', 'Lot Config', 'Neighborhood', \n",
    "        'Condition 1', 'Condition 2', 'Bldg Type', 'House Style', 'Roof Style', \n",
    "        'Roof Matl', 'Exterior 1st', 'Exterior 2nd', 'Mas Vnr Type', \n",
    "        'Foundation', 'Heating', 'Central Air']\n",
    "\n",
    "    #from the documentation, these columns should be seen as ordinal categorical:\n",
    "    ordinal_features = [\n",
    "        'Lot Shape','Utilities', 'Land Slope', 'Exter Qual','Exter Cond', \n",
    "        'Bsmt Qual', 'Bsmt Cond', 'Bsmt Exposure', 'BsmtFin Type 1','BsmtFin Type 2',\n",
    "        'Heating QC', 'Electrical', 'Kitchen Qual', 'Functional', 'Fireplaces', 'Paved Drive',\n",
    "        'Overall Qual', 'SalePrice']\n",
    "\n",
    "    #reselecting numerical_features\n",
    "    numerical_features = [\n",
    "        'Open Porch SF', 'Wood Deck SF', 'BsmtFin SF 1', 'Fireplaces',\n",
    "        'TotRms AbvGrd', 'Mas Vnr Area', 'Year Remod/Add', 'Years Since Remod',\n",
    "        'Full Bath', 'Year Built', 'House Age', '1st Flr SF', 'Garage Area',\n",
    "        'Total Bsmt SF', 'Garage Cars', 'Gr Liv Area', 'Overall Qual', 'SalePrice']\n",
    "\n",
    "    #find the number unique values of each column of the nominal_features\n",
    "    unique_length = transform_df[nominal_features].apply(lambda col: len(col.value_counts())).sort_values()\n",
    "    \n",
    "    #find columns with large unique values lengths i.e more than 10 unique values\n",
    "    large_unique = unique_length[unique_length>unique_threshold].index\n",
    "\n",
    "    #updating nominal_features to remove values with large unique values\n",
    "    nominal_features = [col for col in nominal_features if col not in large_unique]\n",
    "\n",
    "    #dropping the features with large unique values\n",
    "    transform_df = transform_df.drop(large_unique, axis=1)\n",
    "\n",
    "    #creating a Series of nominal_features value_counts\n",
    "    col_variance = transform_df[nominal_features].apply(lambda col: col.value_counts(normalize=True).to_dict())\n",
    "\n",
    "    #filtering columns that have 0.95 of its items in one unique value\n",
    "    low_var_col = []\n",
    "    for k,v in col_variance.iteritems():\n",
    "        for keys, values in v.items():\n",
    "            if values > var_threshold:\n",
    "                low_var_col.append(k)\n",
    "\n",
    "    #dropping items in low_var_col transform_df\n",
    "    transform_df = transform_df.drop(low_var_col, axis=1)\n",
    "\n",
    "    #updating nominal_features\n",
    "    nominal_features = [col for col in nominal_features if col not in low_var_col]\n",
    "    \n",
    "    #checking for collinearity between numerical features\n",
    "    \n",
    "    #these are features to be dropped after checking for features collinearity\n",
    "    col_drop_2 = ['TotRms AbvGrd', 'Year Remod/Add', 'Year Built', 'Garage Cars']\n",
    "    \n",
    "    #updating the numerical features\n",
    "    numerical_features = [col for col in numerical_features if col not in col_drop_2]\n",
    "\n",
    "    #dropping these values from our dataframe\n",
    "    transform_df = transform_df.drop(col_drop_2, axis=1)\n",
    "\n",
    "    #I'm going to convert ordinal categorical values to int(numerical) values\n",
    "    transform_df['Lot Shape'] = transform_df['Lot Shape'].map({'Reg':4, 'IR1':3, 'IR2':2, 'IR3': 1})\n",
    "    transform_df['Utilities'] = transform_df['Utilities'].map({'AllPub':4, 'NoSewr':3, 'NoSeWa':2, 'ELO':1})\n",
    "    transform_df['Land Slope'] = transform_df['Land Slope'].map({'Gtl':3,'Mod':2,'Sev':1})\n",
    "    for col in ['Exter Qual', 'Exter Cond', 'Heating QC', 'Kitchen Qual', 'Bsmt Qual', 'Bsmt Cond']:\n",
    "        transform_df[col] = transform_df[col].map({'Ex':5, 'Gd':4, 'TA':3, 'Fa':2, 'Po':1, 'NA':0})\n",
    "    transform_df['Bsmt Exposure'] = transform_df['Bsmt Exposure'].map({'Gd':3,'Av':2,'Mn':1,'No':0,'NA':-1})\n",
    "    for col in ['BsmtFin Type 1', 'BsmtFin Type 2']:\n",
    "        transform_df[col] = transform_df[col].map({'GLQ':6,'ALQ':5,'BLQ':4,'Rec':3,'LwQ':2,'Unf':1,'NA':0})\n",
    "    transform_df['Electrical'] = transform_df['Electrical'].map({'SBrkr':4, 'FuseA':3, 'FuseF':2, 'FuseP':1,'Mix':1.5})\n",
    "    transform_df['Functional'] = transform_df['Functional'].map({'Typ':7, 'Min1':6, 'Min2':5, 'Mod':4, 'Maj1':3, 'Maj2':2, 'Sev':1, 'Sal':0})\n",
    "    transform_df['Paved Drive'] = transform_df['Paved Drive'].map({'Y':3,'P':2, 'N':1})\n",
    "\n",
    "    #filled missing values in ordinal categorical features with 0\n",
    "    transform_df[ordinal_features] = transform_df[ordinal_features].fillna(0)\n",
    "\n",
    "    #converting ordinal categorical features to int\n",
    "    for col in ordinal_features:\n",
    "        transform_df[col] = transform_df[col].astype(int)\n",
    "\n",
    "    #Check for correlation between ordinal and targert and iterate to find the best corr to cut off\n",
    "    ordinal_corr = transform_df[ordinal_features].corr().abs()['SalePrice'].sort_values()\n",
    "\n",
    "    #from our test, it's best if we cut off from 0.2\n",
    "    cut_off = ordinal_corr[ordinal_corr<ord_coef_threshold].index\n",
    "\n",
    "    #updating our ordinal_features\n",
    "    ordinal_features = [col for col in ordinal_features if col not in cut_off]\n",
    "\n",
    "    #updating the transform_df\n",
    "    transform_df = transform_df.drop(cut_off, axis=1)\n",
    "\n",
    "    #Add ordinal to numerical features list\n",
    "    numerical_features.extend(ordinal_features)\n",
    "    numerical_features = list(set(numerical_features))\n",
    "\n",
    "    #Convert nominal_features to categorical\n",
    "    for col in nominal_features:\n",
    "        transform_df[col] = transform_df[col].astype('category')\n",
    "    \n",
    "    #Convert nominal_features to dummies\n",
    "    for col in nominal_features:\n",
    "        nominal_dummies = pd.get_dummies(transform_df[col])\n",
    "        transform_df = pd.concat([transform_df, nominal_dummies], axis=1)\n",
    "        del transform_df[col]\n",
    "    \n",
    "    return transform_df"
   ]
  },
  {
   "cell_type": "code",
   "execution_count": 97,
   "metadata": {
    "collapsed": false
   },
   "outputs": [
    {
     "data": {
      "text/plain": [
       "35146.36570876594"
      ]
     },
     "execution_count": 97,
     "metadata": {},
     "output_type": "execute_result"
    }
   ],
   "source": [
    "def train_and_test(df):\n",
    "    train = df[:1460]\n",
    "    test = df[1460:]\n",
    "    lr = LinearRegression()\n",
    "    #numeric_feature = df.drop('SalePrice',axis=1).columns\n",
    "    numeric_feature = df.select_dtypes(include=['float','int']).columns.drop('SalePrice')\n",
    "    lr.fit(train[numeric_feature], train['SalePrice'])\n",
    "    test_predict = lr.predict(test[numeric_feature])\n",
    "    test_rmse = np.sqrt(mean_squared_error(test['SalePrice'], test_predict))\n",
    "    return test_rmse\n",
    "\n",
    "#second_data = transform_features(housing_data)\n",
    "#second_trial = select_features(second_data)\n",
    "second_trial = select_features(housing_data)\n",
    "train_and_test(second_trial)\n",
    "#second_trial.isnull().sum().sum()"
   ]
  },
  {
   "cell_type": "markdown",
   "metadata": {},
   "source": [
    "# TRAIN AND TEST"
   ]
  },
  {
   "cell_type": "code",
   "execution_count": 123,
   "metadata": {
    "collapsed": false
   },
   "outputs": [
    {
     "name": "stdout",
     "output_type": "stream",
     "text": [
      "[23056.397911234173, 31519.186741797203, 27210.077481852008, 36025.333204367074, 23855.878648848447, 31337.256531026687, 23218.069057055356, 21898.06183473445, 30212.51302717281, 23910.276170785048, 20935.807056918737, 33601.41292075995, 24431.331232761386, 61153.6865548315, 29967.830994199037, 21462.052134402875, 30853.612753445075, 26804.623507380966, 28775.14975332961, 24540.155458740446]\n"
     ]
    },
    {
     "data": {
      "text/plain": [
       "28738.43564878214"
      ]
     },
     "execution_count": 123,
     "metadata": {},
     "output_type": "execute_result"
    }
   ],
   "source": [
    "def train_and_test(df,k=0):\n",
    "    lr = LinearRegression()\n",
    "    numeric_feature = df.drop('SalePrice',axis=1).columns\n",
    "    \n",
    "    if k == 0:\n",
    "        train = df[:1460]\n",
    "        test = df[1460:]\n",
    "        \n",
    "        lr.fit(train[numeric_feature], train['SalePrice'])\n",
    "        test_predict = lr.predict(test[numeric_feature])\n",
    "        test_rmse = np.sqrt(mean_squared_error(test['SalePrice'], test_predict))\n",
    "        return test_rmse\n",
    "    \n",
    "    if k == 1:\n",
    "        #reshuffle rows of the dataframe\n",
    "        shuffled_df = df.sample(frac=1, )\n",
    "        fold_one = df[:1460]\n",
    "        fold_two = df[1460:]\n",
    "        train_one = fold_one\n",
    "        train_two = fold_two\n",
    "        test_one = fold_two\n",
    "        test_two = fold_one\n",
    "        \n",
    "        lr.fit(train_one[numeric_feature], train_one['SalePrice'])\n",
    "        predictions_one = lr.predict(test_one[numeric_feature])\n",
    "        rmse_one = np.sqrt(mean_squared_error(test_one['SalePrice'], predictions_one))\n",
    "        \n",
    "        lr.fit(train_two[numeric_feature], train_two['SalePrice'])\n",
    "        predictions_two = lr.predict(test_two[numeric_feature])\n",
    "        rmse_two = np.sqrt(mean_squared_error(test_two['SalePrice'], predictions_two))\n",
    "        \n",
    "        avg_rmse = np.mean([rmse_one, rmse_two])\n",
    "        print(rmse_one)\n",
    "        print(rmse_two)\n",
    "        return avg_rmse\n",
    "    \n",
    "    else:\n",
    "        kf = KFold(n_splits=k, shuffle=True)\n",
    "        rmse_value = []\n",
    "        for train_index, test_index in kf.split(df):\n",
    "            train = df.iloc[train_index]\n",
    "            test = df.iloc[test_index]\n",
    "            \n",
    "            lr.fit(train[numeric_feature], train['SalePrice'])\n",
    "            predictions = lr.predict(test[numeric_feature])\n",
    "            \n",
    "            rmse = np.sqrt(mean_squared_error(test['SalePrice'], predictions))\n",
    "            rmse_value.append(rmse)\n",
    "        \n",
    "        print(rmse_value)\n",
    "        avg_rmse = np.mean(rmse_value)\n",
    "        return avg_rmse\n",
    "    \n",
    "second_trial = select_features(housing_data)\n",
    "train_and_test(second_trial,20)"
   ]
  },
  {
   "cell_type": "markdown",
   "metadata": {},
   "source": []
  }
 ],
 "metadata": {
  "anaconda-cloud": {},
  "kernelspec": {
   "display_name": "Python 3",
   "language": "python",
   "name": "python3"
  },
  "language_info": {
   "codemirror_mode": {
    "name": "ipython",
    "version": 3
   },
   "file_extension": ".py",
   "mimetype": "text/x-python",
   "name": "python",
   "nbconvert_exporter": "python",
   "pygments_lexer": "ipython3",
   "version": "3.4.3"
  }
 },
 "nbformat": 4,
 "nbformat_minor": 2
}
